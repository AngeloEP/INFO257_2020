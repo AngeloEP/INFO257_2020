{
 "cells": [
  {
   "cell_type": "markdown",
   "metadata": {},
   "source": [
    "# Unidad 1: Taller de resolución de problemas de clasificación automática\n",
    "\n",
    "   <h2> Tarea </h2>"
   ]
  },
  {
   "cell_type": "markdown",
   "metadata": {},
   "source": [
    "## Preprocesamiento de los datos"
   ]
  },
  {
   "cell_type": "code",
   "execution_count": 1,
   "metadata": {
    "scrolled": true
   },
   "outputs": [
    {
     "data": {
      "text/html": [
       "<div>\n",
       "<style scoped>\n",
       "    .dataframe tbody tr th:only-of-type {\n",
       "        vertical-align: middle;\n",
       "    }\n",
       "\n",
       "    .dataframe tbody tr th {\n",
       "        vertical-align: top;\n",
       "    }\n",
       "\n",
       "    .dataframe thead th {\n",
       "        text-align: right;\n",
       "    }\n",
       "</style>\n",
       "<table border=\"1\" class=\"dataframe\">\n",
       "  <thead>\n",
       "    <tr style=\"text-align: right;\">\n",
       "      <th></th>\n",
       "      <th>objid</th>\n",
       "      <th>ra</th>\n",
       "      <th>dec</th>\n",
       "      <th>u</th>\n",
       "      <th>g</th>\n",
       "      <th>r</th>\n",
       "      <th>i</th>\n",
       "      <th>z</th>\n",
       "      <th>run</th>\n",
       "      <th>rerun</th>\n",
       "      <th>camcol</th>\n",
       "      <th>field</th>\n",
       "      <th>specobjid</th>\n",
       "      <th>class</th>\n",
       "      <th>redshift</th>\n",
       "      <th>plate</th>\n",
       "      <th>mjd</th>\n",
       "      <th>fiberid</th>\n",
       "    </tr>\n",
       "  </thead>\n",
       "  <tbody>\n",
       "    <tr>\n",
       "      <th>0</th>\n",
       "      <td>1.237650e+18</td>\n",
       "      <td>183.531326</td>\n",
       "      <td>0.089693</td>\n",
       "      <td>19.47406</td>\n",
       "      <td>17.04240</td>\n",
       "      <td>15.94699</td>\n",
       "      <td>15.50342</td>\n",
       "      <td>15.22531</td>\n",
       "      <td>752</td>\n",
       "      <td>301</td>\n",
       "      <td>4</td>\n",
       "      <td>267</td>\n",
       "      <td>3.722360e+18</td>\n",
       "      <td>STAR</td>\n",
       "      <td>-0.000009</td>\n",
       "      <td>3306</td>\n",
       "      <td>54922</td>\n",
       "      <td>491</td>\n",
       "    </tr>\n",
       "    <tr>\n",
       "      <th>1</th>\n",
       "      <td>1.237650e+18</td>\n",
       "      <td>183.598371</td>\n",
       "      <td>0.135285</td>\n",
       "      <td>18.66280</td>\n",
       "      <td>17.21449</td>\n",
       "      <td>16.67637</td>\n",
       "      <td>16.48922</td>\n",
       "      <td>16.39150</td>\n",
       "      <td>752</td>\n",
       "      <td>301</td>\n",
       "      <td>4</td>\n",
       "      <td>267</td>\n",
       "      <td>3.638140e+17</td>\n",
       "      <td>STAR</td>\n",
       "      <td>-0.000055</td>\n",
       "      <td>323</td>\n",
       "      <td>51615</td>\n",
       "      <td>541</td>\n",
       "    </tr>\n",
       "    <tr>\n",
       "      <th>2</th>\n",
       "      <td>1.237650e+18</td>\n",
       "      <td>183.680207</td>\n",
       "      <td>0.126185</td>\n",
       "      <td>19.38298</td>\n",
       "      <td>18.19169</td>\n",
       "      <td>17.47428</td>\n",
       "      <td>17.08732</td>\n",
       "      <td>16.80125</td>\n",
       "      <td>752</td>\n",
       "      <td>301</td>\n",
       "      <td>4</td>\n",
       "      <td>268</td>\n",
       "      <td>3.232740e+17</td>\n",
       "      <td>GALAXY</td>\n",
       "      <td>0.123111</td>\n",
       "      <td>287</td>\n",
       "      <td>52023</td>\n",
       "      <td>513</td>\n",
       "    </tr>\n",
       "    <tr>\n",
       "      <th>3</th>\n",
       "      <td>1.237650e+18</td>\n",
       "      <td>183.870529</td>\n",
       "      <td>0.049911</td>\n",
       "      <td>17.76536</td>\n",
       "      <td>16.60272</td>\n",
       "      <td>16.16116</td>\n",
       "      <td>15.98233</td>\n",
       "      <td>15.90438</td>\n",
       "      <td>752</td>\n",
       "      <td>301</td>\n",
       "      <td>4</td>\n",
       "      <td>269</td>\n",
       "      <td>3.722370e+18</td>\n",
       "      <td>STAR</td>\n",
       "      <td>-0.000111</td>\n",
       "      <td>3306</td>\n",
       "      <td>54922</td>\n",
       "      <td>510</td>\n",
       "    </tr>\n",
       "    <tr>\n",
       "      <th>4</th>\n",
       "      <td>1.237650e+18</td>\n",
       "      <td>183.883288</td>\n",
       "      <td>0.102557</td>\n",
       "      <td>17.55025</td>\n",
       "      <td>16.26342</td>\n",
       "      <td>16.43869</td>\n",
       "      <td>16.55492</td>\n",
       "      <td>16.61326</td>\n",
       "      <td>752</td>\n",
       "      <td>301</td>\n",
       "      <td>4</td>\n",
       "      <td>269</td>\n",
       "      <td>3.722370e+18</td>\n",
       "      <td>STAR</td>\n",
       "      <td>0.000590</td>\n",
       "      <td>3306</td>\n",
       "      <td>54922</td>\n",
       "      <td>512</td>\n",
       "    </tr>\n",
       "    <tr>\n",
       "      <th>5</th>\n",
       "      <td>1.237650e+18</td>\n",
       "      <td>183.847174</td>\n",
       "      <td>0.173694</td>\n",
       "      <td>19.43133</td>\n",
       "      <td>18.46779</td>\n",
       "      <td>18.16451</td>\n",
       "      <td>18.01475</td>\n",
       "      <td>18.04155</td>\n",
       "      <td>752</td>\n",
       "      <td>301</td>\n",
       "      <td>4</td>\n",
       "      <td>269</td>\n",
       "      <td>3.649550e+17</td>\n",
       "      <td>STAR</td>\n",
       "      <td>0.000315</td>\n",
       "      <td>324</td>\n",
       "      <td>51666</td>\n",
       "      <td>594</td>\n",
       "    </tr>\n",
       "    <tr>\n",
       "      <th>6</th>\n",
       "      <td>1.237650e+18</td>\n",
       "      <td>183.864379</td>\n",
       "      <td>0.019201</td>\n",
       "      <td>19.38322</td>\n",
       "      <td>17.88995</td>\n",
       "      <td>17.10537</td>\n",
       "      <td>16.66393</td>\n",
       "      <td>16.36955</td>\n",
       "      <td>752</td>\n",
       "      <td>301</td>\n",
       "      <td>4</td>\n",
       "      <td>269</td>\n",
       "      <td>3.232870e+17</td>\n",
       "      <td>GALAXY</td>\n",
       "      <td>0.100242</td>\n",
       "      <td>287</td>\n",
       "      <td>52023</td>\n",
       "      <td>559</td>\n",
       "    </tr>\n",
       "    <tr>\n",
       "      <th>7</th>\n",
       "      <td>1.237650e+18</td>\n",
       "      <td>183.900081</td>\n",
       "      <td>0.187473</td>\n",
       "      <td>18.97993</td>\n",
       "      <td>17.84496</td>\n",
       "      <td>17.38022</td>\n",
       "      <td>17.20673</td>\n",
       "      <td>17.07071</td>\n",
       "      <td>752</td>\n",
       "      <td>301</td>\n",
       "      <td>4</td>\n",
       "      <td>269</td>\n",
       "      <td>3.722370e+18</td>\n",
       "      <td>STAR</td>\n",
       "      <td>0.000315</td>\n",
       "      <td>3306</td>\n",
       "      <td>54922</td>\n",
       "      <td>515</td>\n",
       "    </tr>\n",
       "    <tr>\n",
       "      <th>8</th>\n",
       "      <td>1.237650e+18</td>\n",
       "      <td>183.924588</td>\n",
       "      <td>0.097246</td>\n",
       "      <td>17.90616</td>\n",
       "      <td>16.97172</td>\n",
       "      <td>16.67541</td>\n",
       "      <td>16.53776</td>\n",
       "      <td>16.47596</td>\n",
       "      <td>752</td>\n",
       "      <td>301</td>\n",
       "      <td>4</td>\n",
       "      <td>270</td>\n",
       "      <td>3.638290e+17</td>\n",
       "      <td>STAR</td>\n",
       "      <td>0.000089</td>\n",
       "      <td>323</td>\n",
       "      <td>51615</td>\n",
       "      <td>595</td>\n",
       "    </tr>\n",
       "    <tr>\n",
       "      <th>9</th>\n",
       "      <td>1.237650e+18</td>\n",
       "      <td>183.973498</td>\n",
       "      <td>0.081626</td>\n",
       "      <td>18.67249</td>\n",
       "      <td>17.71375</td>\n",
       "      <td>17.49362</td>\n",
       "      <td>17.28284</td>\n",
       "      <td>17.22644</td>\n",
       "      <td>752</td>\n",
       "      <td>301</td>\n",
       "      <td>4</td>\n",
       "      <td>270</td>\n",
       "      <td>3.243690e+17</td>\n",
       "      <td>GALAXY</td>\n",
       "      <td>0.040508</td>\n",
       "      <td>288</td>\n",
       "      <td>52000</td>\n",
       "      <td>400</td>\n",
       "    </tr>\n",
       "  </tbody>\n",
       "</table>\n",
       "</div>"
      ],
      "text/plain": [
       "          objid          ra       dec         u         g         r         i  \\\n",
       "0  1.237650e+18  183.531326  0.089693  19.47406  17.04240  15.94699  15.50342   \n",
       "1  1.237650e+18  183.598371  0.135285  18.66280  17.21449  16.67637  16.48922   \n",
       "2  1.237650e+18  183.680207  0.126185  19.38298  18.19169  17.47428  17.08732   \n",
       "3  1.237650e+18  183.870529  0.049911  17.76536  16.60272  16.16116  15.98233   \n",
       "4  1.237650e+18  183.883288  0.102557  17.55025  16.26342  16.43869  16.55492   \n",
       "5  1.237650e+18  183.847174  0.173694  19.43133  18.46779  18.16451  18.01475   \n",
       "6  1.237650e+18  183.864379  0.019201  19.38322  17.88995  17.10537  16.66393   \n",
       "7  1.237650e+18  183.900081  0.187473  18.97993  17.84496  17.38022  17.20673   \n",
       "8  1.237650e+18  183.924588  0.097246  17.90616  16.97172  16.67541  16.53776   \n",
       "9  1.237650e+18  183.973498  0.081626  18.67249  17.71375  17.49362  17.28284   \n",
       "\n",
       "          z  run  rerun  camcol  field     specobjid   class  redshift  plate  \\\n",
       "0  15.22531  752    301       4    267  3.722360e+18    STAR -0.000009   3306   \n",
       "1  16.39150  752    301       4    267  3.638140e+17    STAR -0.000055    323   \n",
       "2  16.80125  752    301       4    268  3.232740e+17  GALAXY  0.123111    287   \n",
       "3  15.90438  752    301       4    269  3.722370e+18    STAR -0.000111   3306   \n",
       "4  16.61326  752    301       4    269  3.722370e+18    STAR  0.000590   3306   \n",
       "5  18.04155  752    301       4    269  3.649550e+17    STAR  0.000315    324   \n",
       "6  16.36955  752    301       4    269  3.232870e+17  GALAXY  0.100242    287   \n",
       "7  17.07071  752    301       4    269  3.722370e+18    STAR  0.000315   3306   \n",
       "8  16.47596  752    301       4    270  3.638290e+17    STAR  0.000089    323   \n",
       "9  17.22644  752    301       4    270  3.243690e+17  GALAXY  0.040508    288   \n",
       "\n",
       "     mjd  fiberid  \n",
       "0  54922      491  \n",
       "1  51615      541  \n",
       "2  52023      513  \n",
       "3  54922      510  \n",
       "4  54922      512  \n",
       "5  51666      594  \n",
       "6  52023      559  \n",
       "7  54922      515  \n",
       "8  51615      595  \n",
       "9  52000      400  "
      ]
     },
     "execution_count": 1,
     "metadata": {},
     "output_type": "execute_result"
    }
   ],
   "source": [
    "import warnings\n",
    "warnings.filterwarnings('ignore')\n",
    "\n",
    "import numpy as np\n",
    "import pandas as pd\n",
    "\n",
    "\n",
    "sky_survey = pd.read_csv(\"../../../INFO257_2020/unidad1/datos/SDSS-DR14.csv\")\n",
    "sky_survey.head(10)"
   ]
  },
  {
   "cell_type": "markdown",
   "metadata": {},
   "source": [
    "Los datos del SDSS están descritas por características obtenidos por varias mediciones de espectros ópticos y infrarrojos."
   ]
  },
  {
   "cell_type": "markdown",
   "metadata": {},
   "source": [
    "* **RA,DEC**: Uno de los principales sistemas de coordenadas utilizados por el SDSS. En este sistema, μ y ν son coordenadas esféricas (correspondientes a ra y dec) en un sistema cuyo ecuador se encuentra a lo largo del centro de la franja en cuestión. Las líneas de longitud reciben el nombre de ascensión recta (o RA por sus siglas en inglés) y las líneas en latitud se llaman declinación (Dec).\n",
    "\n",
    "* broadband filters **(u, g, r, i, z)**, La cámara de imágenes SDSS toma imágenes en cinco filtros: u,g,r,i,z que abarcan la ventana de 3000 Angstroms a 1 micrón, las múltiples bandas permiten determinar los colores de los objetos detectados.\n",
    "\n",
    "* **CAMCOL ; RUN**,Cada escaneo de deriva continua se conoce como run y hay un número entero único que identifica un run. Para los recorridos de calidad científica, el número más bajo de run es 94, y el más alto es 8162. La cámara SDSS tenía seis columnas de cámaras paralelas, lo que significa que cada run se divide en seis líneas de escaneo paralelas, una para cada columna de la cámara. Estas imágenes se conocen como camcols, y están numeradas del 1 al 6. Cada camcol tiene 2048 píxeles de ancho (el ancho de los CCD). Hay un espacio de 11,7 minutos de arco entre los camcols; normalmente, el espacio entre los camcols en un run se rellena con imágenes de otro run de escaneo a la deriva que se superponen ligeramente en la cobertura del cielo.\n",
    "\n",
    "* La columna **FIELD**. En el contexto de APOGEE, un campo es un lugar en el cielo, definido por coordenadas centrales y un radio. \n",
    "\n",
    "* **RERUN**, especifica cómo se procesó la imagen, El reprocesamiento de una imagen. Los datos de imagen subyacentes son los mismos, pero la versión del software y/o la calibración son diferentes.\n",
    "\n",
    "* **SPECOBJID**, un único ID de 64 bits codificado con bits usado para objetos espectroscópicos ópticos. Se genera a partir de plate, mjd, y fiberid. Es completamente independiente de cualquier sistema de enumeración fotométrica.\n",
    "\n",
    "* **REDSHIFT**, una medida de la velocidad de recesión de una galaxia u otro objeto del cielo; debido a la expansión del Universo, redshift puede servir como una medida de la distancia. El SDSS mide el desplazamiento al rojo(redshift) de la espectroscopia.\n",
    "\n",
    "* **PLATE**,  Cada placa corresponde a un parche específico del cielo, y está pre-perforada con agujeros que corresponden a las posiciones del cielo de los objetos en esa área, lo que significa que cada área requiere su propia placa única. Se refiere a la placa específica del SDSS que incluye la galaxia deseada.Cada exposición espectroscópica emplea una placa metálica circular, grande y delgada, que posiciona las fibras ópticas a través de agujeros taladrados en las ubicaciones de las imágenes en el plano focal del telescopio. Estas fibras se introducen en los espectrógrafos. Cada placa tiene un número de serie único, que se llama placa en vistas como la de SpecObj en el CAS.\n",
    "\n",
    "* **MJD,Modified Julian Date**, además de un número de placa, para identificar un espectro del SDSS es necesario conocer la MJD (fecha juliana modificada) en la que se observó ese espectro.\n",
    "\n",
    "* **FiberID**, un número entero que denota el número de fibra (1 a 640 para SDSS) .El espectrógrafo SDSS utiliza fibras ópticas para dirigir la luz en el plano focal desde los objetos individuales hasta el cabezal de corte. A cada objeto se le asigna una fibra óptica correspondiente."
   ]
  },
  {
   "cell_type": "markdown",
   "metadata": {},
   "source": [
    "## Procesando las características del dataset"
   ]
  },
  {
   "cell_type": "markdown",
   "metadata": {},
   "source": [
    "Veamos que tan relevantes son las características en el estudio propuesto"
   ]
  },
  {
   "cell_type": "markdown",
   "metadata": {},
   "source": [
    "   **class** - Obviamente importante.\n",
    "   \n",
    "   **ra,dec** - Dado que son las coordenadas esféricas de la imagen sobre el cielo nocturno y no nos describen a los objetos en cuestión no son importante en el análisis.\n",
    "\n",
    "   **(u, g, r, i, z)** - El hacer uso de los 5 filtros de cada imagen SDSS es muy relevante porque dado el comportamiento de cada filtro y la tendencia que ya se a estimado de las 3 clases, se puede predecir que un objeto dados sus flitros se asemeje a una clase.\n",
    "    \n",
    "   **run,camcol,field,rerun** - Estas características no dejan de ser nada más que descripciones de la imagen tomada, la columna de la imagen, el campo que se tomo del espacio nocturno y un reprocesamiento de aquella imagen, por todo esto es que concluimos que no nos interesa saber sobre estas y deducimos que no influirán en la predicción de la clase de un objeto divisado.\n",
    "   \n",
    "   **redshift** - Este campo no puede pasar desapercibido porque nos informa de los desplazamientos de los objetos, la velocidad de recesion de este, entonces es muy crucial saberlo. Si haremos uso de esta característica.\n",
    "   \n",
    "   **mjd, plate, fiberid** - Mjd no es más que una fecha para identificar un espectro asociado a una placa, plate es solo la id que se asocia a la imagen y por su parte fiberid también es un identificador de las fibras utilizadas para representar los objetos en la placa respectiva. No nos interesa estos datos ni sus valores en la predicción asi que no los usaremos en el entrenamiento.\n",
    "   \n",
    "   **specobjid** - No es relevante dado que es solo un número de 64 bits codificado el cual representa a mjd, plate, fiberid, entonces no tiene una mayor relevancia en el análisis predictivo."
   ]
  },
  {
   "cell_type": "code",
   "execution_count": 2,
   "metadata": {},
   "outputs": [
    {
     "data": {
      "text/plain": [
       "objid        0\n",
       "ra           0\n",
       "dec          0\n",
       "u            0\n",
       "g            0\n",
       "r            0\n",
       "i            0\n",
       "z            0\n",
       "run          0\n",
       "rerun        0\n",
       "camcol       0\n",
       "field        0\n",
       "specobjid    0\n",
       "class        0\n",
       "redshift     0\n",
       "plate        0\n",
       "mjd          0\n",
       "fiberid      0\n",
       "dtype: int64"
      ]
     },
     "execution_count": 2,
     "metadata": {},
     "output_type": "execute_result"
    }
   ],
   "source": [
    "# Existen datos nulos?\n",
    "sky_survey.isnull().sum()"
   ]
  },
  {
   "cell_type": "code",
   "execution_count": 3,
   "metadata": {},
   "outputs": [
    {
     "name": "stdout",
     "output_type": "stream",
     "text": [
      "<class 'pandas.core.frame.DataFrame'>\n",
      "RangeIndex: 10000 entries, 0 to 9999\n",
      "Data columns (total 18 columns):\n",
      "objid        10000 non-null float64\n",
      "ra           10000 non-null float64\n",
      "dec          10000 non-null float64\n",
      "u            10000 non-null float64\n",
      "g            10000 non-null float64\n",
      "r            10000 non-null float64\n",
      "i            10000 non-null float64\n",
      "z            10000 non-null float64\n",
      "run          10000 non-null int64\n",
      "rerun        10000 non-null int64\n",
      "camcol       10000 non-null int64\n",
      "field        10000 non-null int64\n",
      "specobjid    10000 non-null float64\n",
      "class        10000 non-null object\n",
      "redshift     10000 non-null float64\n",
      "plate        10000 non-null int64\n",
      "mjd          10000 non-null int64\n",
      "fiberid      10000 non-null int64\n",
      "dtypes: float64(10), int64(7), object(1)\n",
      "memory usage: 1.4+ MB\n"
     ]
    }
   ],
   "source": [
    "# Cantidad de datos totales y el tipo de dato de cada característica\n",
    "sky_survey.info()"
   ]
  },
  {
   "cell_type": "code",
   "execution_count": 4,
   "metadata": {},
   "outputs": [
    {
     "data": {
      "text/html": [
       "<div>\n",
       "<style scoped>\n",
       "    .dataframe tbody tr th:only-of-type {\n",
       "        vertical-align: middle;\n",
       "    }\n",
       "\n",
       "    .dataframe tbody tr th {\n",
       "        vertical-align: top;\n",
       "    }\n",
       "\n",
       "    .dataframe thead th {\n",
       "        text-align: right;\n",
       "    }\n",
       "</style>\n",
       "<table border=\"1\" class=\"dataframe\">\n",
       "  <thead>\n",
       "    <tr style=\"text-align: right;\">\n",
       "      <th></th>\n",
       "      <th>u</th>\n",
       "      <th>g</th>\n",
       "      <th>r</th>\n",
       "      <th>i</th>\n",
       "      <th>z</th>\n",
       "      <th>redshift</th>\n",
       "      <th>class</th>\n",
       "    </tr>\n",
       "  </thead>\n",
       "  <tbody>\n",
       "    <tr>\n",
       "      <th>0</th>\n",
       "      <td>19.47406</td>\n",
       "      <td>17.04240</td>\n",
       "      <td>15.94699</td>\n",
       "      <td>15.50342</td>\n",
       "      <td>15.22531</td>\n",
       "      <td>-0.000009</td>\n",
       "      <td>STAR</td>\n",
       "    </tr>\n",
       "    <tr>\n",
       "      <th>1</th>\n",
       "      <td>18.66280</td>\n",
       "      <td>17.21449</td>\n",
       "      <td>16.67637</td>\n",
       "      <td>16.48922</td>\n",
       "      <td>16.39150</td>\n",
       "      <td>-0.000055</td>\n",
       "      <td>STAR</td>\n",
       "    </tr>\n",
       "    <tr>\n",
       "      <th>2</th>\n",
       "      <td>19.38298</td>\n",
       "      <td>18.19169</td>\n",
       "      <td>17.47428</td>\n",
       "      <td>17.08732</td>\n",
       "      <td>16.80125</td>\n",
       "      <td>0.123111</td>\n",
       "      <td>GALAXY</td>\n",
       "    </tr>\n",
       "    <tr>\n",
       "      <th>3</th>\n",
       "      <td>17.76536</td>\n",
       "      <td>16.60272</td>\n",
       "      <td>16.16116</td>\n",
       "      <td>15.98233</td>\n",
       "      <td>15.90438</td>\n",
       "      <td>-0.000111</td>\n",
       "      <td>STAR</td>\n",
       "    </tr>\n",
       "    <tr>\n",
       "      <th>4</th>\n",
       "      <td>17.55025</td>\n",
       "      <td>16.26342</td>\n",
       "      <td>16.43869</td>\n",
       "      <td>16.55492</td>\n",
       "      <td>16.61326</td>\n",
       "      <td>0.000590</td>\n",
       "      <td>STAR</td>\n",
       "    </tr>\n",
       "  </tbody>\n",
       "</table>\n",
       "</div>"
      ],
      "text/plain": [
       "          u         g         r         i         z  redshift   class\n",
       "0  19.47406  17.04240  15.94699  15.50342  15.22531 -0.000009    STAR\n",
       "1  18.66280  17.21449  16.67637  16.48922  16.39150 -0.000055    STAR\n",
       "2  19.38298  18.19169  17.47428  17.08732  16.80125  0.123111  GALAXY\n",
       "3  17.76536  16.60272  16.16116  15.98233  15.90438 -0.000111    STAR\n",
       "4  17.55025  16.26342  16.43869  16.55492  16.61326  0.000590    STAR"
      ]
     },
     "execution_count": 4,
     "metadata": {},
     "output_type": "execute_result"
    }
   ],
   "source": [
    "# Tenemos que deshacernos de las características que no influyen en la predicción\n",
    "sky_survey_data = sky_survey.drop(['objid', 'ra', 'dec','run','rerun','camcol','field','specobjid','plate','mjd','fiberid'], 1)\n",
    "sky_survey_data = sky_survey_data[[\"u\", \"g\", \"r\", \"i\", \"z\", \"redshift\", \"class\"]]\n",
    "sky_survey_data.head()"
   ]
  },
  {
   "cell_type": "markdown",
   "metadata": {},
   "source": [
    "### Veamos que tan desequilibrado esta la columna objetivo"
   ]
  },
  {
   "cell_type": "code",
   "execution_count": 6,
   "metadata": {},
   "outputs": [
    {
     "data": {
      "text/plain": [
       "<matplotlib.axes._subplots.AxesSubplot at 0x7fc9b07f05f8>"
      ]
     },
     "execution_count": 6,
     "metadata": {},
     "output_type": "execute_result"
    },
    {
     "data": {
      "image/png": "[encoded data removed]",
      "text/plain": [
       "<Figure size 432x288 with 1 Axes>"
      ]
     },
     "metadata": {
      "needs_background": "light"
     },
     "output_type": "display_data"
    }
   ],
   "source": [
    "# Veamos cual es la tendencia en las clases de todas las obsevaciones.\n",
    "import seaborn as sb\n",
    "sb.countplot(x='class',data=sky_survey_data, palette='hls')"
   ]
  },
  {
   "cell_type": "markdown",
   "metadata": {},
   "source": [
    "Vemos una clara diferencia en la cantidad de datos que son de la clase QSO, además de que entre las clases STAR y GALAXY existe una brecha en la cantidad de datos de casi 1000, estas circunstancias pueden afectar a los modelos de clasificación a tender a favorecer la predicción hacia una de las otras dos clases con más datos y por ende perjudicar a los datos que pertenecen a QSO.\n",
    "\n",
    "Debemos solucionar esto aplicando técnicas de equilibrio de datos en clases minoritarias(Sobremuestreo) y mayoritarias(Submuestreo):"
   ]
  },
  {
   "cell_type": "code",
   "execution_count": 7,
   "metadata": {},
   "outputs": [],
   "source": [
    "# Como la clase 'STAR' no tiene la mayor cantidad de datos\n",
    "# pero tampoco es la que tiene menos, será nuestra clase de referencia,\n",
    "# es decir, balancearemos las otras dos clases con respecto a ella.\n",
    "\n",
    "count_class_0, count_class_1, count_class_2 = sky_survey_data['class'].value_counts()\n",
    "df_class_0 = sky_survey_data[sky_survey_data['class'] == 'GALAXY']\n",
    "df_class_1 = sky_survey_data[sky_survey_data['class'] == 'STAR']\n",
    "df_class_2 = sky_survey_data[sky_survey_data['class'] == 'QSO']"
   ]
  },
  {
   "cell_type": "code",
   "execution_count": 8,
   "metadata": {},
   "outputs": [],
   "source": [
    "# Primero, haremos UnderSampling sobre los datos de clase 'GALAXY'    \n",
    "df_class_0_under = df_class_0.sample(count_class_1)\n",
    "sky_survey_under = pd.concat([df_class_0_under, df_class_1], axis=0)"
   ]
  },
  {
   "cell_type": "code",
   "execution_count": 9,
   "metadata": {},
   "outputs": [
    {
     "data": {
      "text/plain": [
       "<matplotlib.axes._subplots.AxesSubplot at 0x7fc9af69cb70>"
      ]
     },
     "execution_count": 9,
     "metadata": {},
     "output_type": "execute_result"
    },
    {
     "data": {
      "image/png": "[encoded data removed]",
      "text/plain": [
       "<Figure size 432x288 with 1 Axes>"
      ]
     },
     "metadata": {
      "needs_background": "light"
     },
     "output_type": "display_data"
    }
   ],
   "source": [
    "# Segundo, haremos OverSampling sobre los datos de clase 'QSO'  \n",
    "df_class_2_over = df_class_2.sample(count_class_1, replace=True)\n",
    "sky_survey_balanced = pd.concat([sky_survey_under, df_class_2_over], axis=0)\n",
    "\n",
    "# Ahora nuestro conjunto de datos tiene una cantidad de datos \"balanceados\" de acuerdo a su clase\n",
    "sb.countplot(x='class',data=sky_survey_balanced, palette='hls')"
   ]
  },
  {
   "cell_type": "markdown",
   "metadata": {},
   "source": [
    "### Existen variables_ dummy_?\n",
    "Sabemos que la característica _class_ tiene valores categóricos(QSO, STAR, GALAXY), pero también sabemos que las herramientas de sklearn aceptan que el atributo objetivo de la clasificación sea de este formato, entonces no es necesario hacer la transformación a variable _dummy_."
   ]
  },
  {
   "cell_type": "code",
   "execution_count": 10,
   "metadata": {},
   "outputs": [
    {
     "data": {
      "text/plain": [
       "<matplotlib.axes._subplots.AxesSubplot at 0x7fc9af590518>"
      ]
     },
     "execution_count": 10,
     "metadata": {},
     "output_type": "execute_result"
    },
    {
     "data": {
      "image/png": "[encoded data removed]",
      "text/plain": [
       "<Figure size 432x288 with 2 Axes>"
      ]
     },
     "metadata": {
      "needs_background": "light"
     },
     "output_type": "display_data"
    }
   ],
   "source": [
    "# Con el siguiente plot podemos apreciar que prácticamente todas las\n",
    "# características están relacionadas e importan en el análisis.\n",
    "sb.heatmap(sky_survey_balanced.corr())"
   ]
  },
  {
   "cell_type": "markdown",
   "metadata": {},
   "source": [
    "# Comenzando a entrenar y evaluar los modelos de clasificación\n",
    "## Primer Modelo:  Regresión Logística"
   ]
  },
  {
   "cell_type": "code",
   "execution_count": 11,
   "metadata": {},
   "outputs": [],
   "source": [
    "import sklearn\n",
    "from pandas import Series, DataFrame\n",
    "from pylab import rcParams\n",
    "from sklearn import preprocessing\n",
    "from sklearn.linear_model import LogisticRegression\n",
    "from sklearn.model_selection import train_test_split\n",
    "from sklearn import metrics \n",
    "from sklearn.metrics import classification_report, confusion_matrix\n",
    "\n",
    "X = sky_survey_balanced.iloc[0:len(sky_survey_balanced),0:6]\n",
    "y = sky_survey_balanced.iloc[0:len(sky_survey_balanced),6]\n",
    "X_train, X_test, y_train, y_test = train_test_split(X, y, test_size = .3, random_state=25)"
   ]
  },
  {
   "cell_type": "code",
   "execution_count": 12,
   "metadata": {},
   "outputs": [
    {
     "data": {
      "text/plain": [
       "LogisticRegression(C=1.0, class_weight=None, dual=False, fit_intercept=True,\n",
       "                   intercept_scaling=1, l1_ratio=None, max_iter=100,\n",
       "                   multi_class='warn', n_jobs=None, penalty='l2',\n",
       "                   random_state=None, solver='warn', tol=0.0001, verbose=0,\n",
       "                   warm_start=False)"
      ]
     },
     "execution_count": 12,
     "metadata": {},
     "output_type": "execute_result"
    }
   ],
   "source": [
    "LogReg = LogisticRegression()\n",
    "LogReg.fit(X_train, y_train)"
   ]
  },
  {
   "cell_type": "code",
   "execution_count": 13,
   "metadata": {},
   "outputs": [
    {
     "name": "stdout",
     "output_type": "stream",
     "text": [
      "coeficientes del modelo: [[  0.66106267  -0.61282628   7.97902812  -2.00264728  -6.00948555\n",
      "   -2.0614408 ]\n",
      " [ -4.89979506   7.19236382   0.7168325   -1.20814026  -1.83639602\n",
      "   10.02073636]\n",
      " [  3.11871486  -6.25403214  -4.77705383   0.55648002   7.34888197\n",
      "  -19.07507521]]\n",
      "intercept: [-4.47730831 -0.41636335  1.54328883]\n"
     ]
    }
   ],
   "source": [
    "print(\"coeficientes del modelo: \"+str(LogReg.coef_))\n",
    "print(\"intercept: \"+str(LogReg.intercept_))"
   ]
  },
  {
   "cell_type": "code",
   "execution_count": 14,
   "metadata": {},
   "outputs": [
    {
     "name": "stdout",
     "output_type": "stream",
     "text": [
      "[[1127    9  124]\n",
      " [  52 1175    2]\n",
      " [  32    1 1215]]\n",
      "              precision    recall  f1-score   support\n",
      "\n",
      "      GALAXY       0.93      0.89      0.91      1260\n",
      "         QSO       0.99      0.96      0.97      1229\n",
      "        STAR       0.91      0.97      0.94      1248\n",
      "\n",
      "    accuracy                           0.94      3737\n",
      "   macro avg       0.94      0.94      0.94      3737\n",
      "weighted avg       0.94      0.94      0.94      3737\n",
      "\n"
     ]
    }
   ],
   "source": [
    "y_pred = LogReg.predict(X_test)\n",
    "\n",
    "#Evaluación del rendimiento del clasificador\n",
    "confusion_matrix = confusion_matrix(y_test, y_pred)\n",
    "print(confusion_matrix)\n",
    "print(classification_report(y_test, y_pred))"
   ]
  },
  {
   "cell_type": "markdown",
   "metadata": {},
   "source": [
    "## Segundo Modelo: Árboles de decisión"
   ]
  },
  {
   "cell_type": "code",
   "execution_count": 56,
   "metadata": {},
   "outputs": [],
   "source": [
    "from sklearn.tree import DecisionTreeRegressor\n",
    "from sklearn.datasets import load_iris\n",
    "from sklearn import tree\n",
    "import graphviz \n",
    "from sklearn.metrics import classification_report, confusion_matrix"
   ]
  },
  {
   "cell_type": "code",
   "execution_count": 57,
   "metadata": {},
   "outputs": [],
   "source": [
    "X = sky_survey_balanced.iloc[0:len(sky_survey_balanced),0:6]\n",
    "y = sky_survey_balanced.iloc[0:len(sky_survey_balanced),6]\n",
    "X_train, X_test, y_train, y_test = train_test_split(X, y, test_size = .3, random_state=25)"
   ]
  },
  {
   "cell_type": "code",
   "execution_count": 58,
   "metadata": {},
   "outputs": [],
   "source": [
    "clf = tree.DecisionTreeClassifier()\n",
    "clf = clf.fit(X_train,y_train)"
   ]
  },
  {
   "cell_type": "code",
   "execution_count": 59,
   "metadata": {},
   "outputs": [
    {
     "name": "stdout",
     "output_type": "stream",
     "text": [
      "[[1241   18    1]\n",
      " [   0 1229    0]\n",
      " [   2    0 1246]]\n",
      "              precision    recall  f1-score   support\n",
      "\n",
      "      GALAXY       1.00      0.98      0.99      1260\n",
      "         QSO       0.99      1.00      0.99      1229\n",
      "        STAR       1.00      1.00      1.00      1248\n",
      "\n",
      "    accuracy                           0.99      3737\n",
      "   macro avg       0.99      0.99      0.99      3737\n",
      "weighted avg       0.99      0.99      0.99      3737\n",
      "\n"
     ]
    }
   ],
   "source": [
    "#Predicciones\n",
    "y_pred = clf.predict(X_test)\n",
    "#Evaluación del rendimiento del clasificador\n",
    "confusion_matrix = confusion_matrix(y_test, y_pred)\n",
    "print(confusion_matrix)\n",
    "#Print de la matriz de confusión\n",
    "print(classification_report(y_test, y_pred))"
   ]
  },
  {
   "cell_type": "markdown",
   "metadata": {},
   "source": [
    "## Tercer Modelo: Random Forest "
   ]
  },
  {
   "cell_type": "code",
   "execution_count": 60,
   "metadata": {},
   "outputs": [],
   "source": [
    "X = sky_survey_balanced.iloc[0:len(sky_survey_balanced),0:6]\n",
    "y = sky_survey_balanced.iloc[0:len(sky_survey_balanced),6]\n",
    "X_train, X_test, y_train, y_test = train_test_split(X, y, test_size = .3, random_state=25)"
   ]
  },
  {
   "cell_type": "code",
   "execution_count": 61,
   "metadata": {},
   "outputs": [
    {
     "name": "stdout",
     "output_type": "stream",
     "text": [
      "[[1244   14    2]\n",
      " [   0 1229    0]\n",
      " [   1    0 1247]]\n",
      "              precision    recall  f1-score   support\n",
      "\n",
      "      GALAXY       1.00      0.99      0.99      1260\n",
      "         QSO       0.99      1.00      0.99      1229\n",
      "        STAR       1.00      1.00      1.00      1248\n",
      "\n",
      "    accuracy                           1.00      3737\n",
      "   macro avg       1.00      1.00      1.00      3737\n",
      "weighted avg       1.00      1.00      1.00      3737\n",
      "\n"
     ]
    }
   ],
   "source": [
    "from sklearn.ensemble import RandomForestClassifier\n",
    "\n",
    "clf_rmc = RandomForestClassifier(n_estimators=15)\n",
    "clf_rmc = clf_rmc.fit(X_train, y_train)\n",
    "\n",
    "#Predicciones\n",
    "y_pred = clf_rmc.predict(X_test)\n",
    "#Evaluación del rendimiento del clasificador\n",
    "from sklearn.metrics import confusion_matrix\n",
    "confusion_matrix = confusion_matrix(y_test, y_pred)\n",
    "print(confusion_matrix)\n",
    "#Print de la matriz de confusión\n",
    "from sklearn.metrics import classification_report\n",
    "print(classification_report(y_test, y_pred))"
   ]
  },
  {
   "cell_type": "markdown",
   "metadata": {},
   "source": [
    "## Comparación de Rendimientos"
   ]
  },
  {
   "cell_type": "markdown",
   "metadata": {},
   "source": [
    "**Precision**\n",
    "\n",
    "Los que tienen mejor resultado en la métrica Precisión de la clase GALAXY son : Árbol de Decisión(1.00) y Random Forest(1.00).\n",
    "\n",
    "Los que tuvieron mejor resultado en la métrica Precisión de la clase QSO son los tres modelos(0.99).\n",
    "\n",
    "Los que tienen mejor resultado en la métrica Precisión de la clase STAR son : Árbol de Decisión(1.00) y Random Forest(1.00).\n",
    "\n",
    "**Recall**\n",
    "\n",
    "El que tiene mejor resultado en la métrica Recall de la clase GALAXY es : Random Forest(0.99)\n",
    "\n",
    "Los que tienen mejor resultado en la métrica Recall de la clase QSO son : Árbol de Decisión y Random Forest(1.00).\n",
    "\n",
    "Los que tienen mejor resultado en la métrica Recall de la clase STAR son : Árbol de Decisión y Random Forest(1.00).\n",
    "\n",
    "- Viendo los resultados anteriores, podemos decir que el método que mejor clasifica datos son los Tree Decision y Random Forest, aunque por temas como que Random Forest es más sofisticado y realiza diferentes pasos, ejecuta varios árboles, combinaciones de ellos y técnicas detras del proceso de clasificación, además de que se ajusta tanto a variables continuas o categóricas, usa Ensemble Learning y también reacciona y se comporta de gran manera ante datos atípicos que se puedan encontrar en el dataset. Por todo eso y más es que de los modelos usados para este caso y similares, es más preferible el uso de Random Forest para realizar clasificaciones e incluso Regriones de tipo continuas.\n",
    "\n",
    "- Cabe mencionar que la métrica principal o en la que debemos centrarnos más, es en Precisión, esto es porque nos dice que tan efectivas son las predicciones con respecto a los datos originales."
   ]
  },
  {
   "cell_type": "markdown",
   "metadata": {},
   "source": [
    "## Ventajas y Desventajas de usar cada modelo de Clasificación\n",
    "\n",
    "### Logistic Regressión\n",
    "\n",
    "**Ventajas:**\n",
    "        - Es buena práctica si estas comenzando a usar modelos de aprendizaje supervizado.\n",
    "        - Técnica muy utilizada ya que es muy eficiente.\n",
    "        - No requiere grandes recursos computacionales.\n",
    "        - Altamente interpretable.\n",
    "        - Feature Engineering favorece mucho el rendimiento del modelo.\n",
    "        - Fácil de implementar.\n",
    "        - Produce probabilidades pronosticadas bien calibradas.\n",
    "**Desventajas:**\n",
    "        - No se puede resolver problemas no lineales ya que su superficie de decisión es lineal.\n",
    "        - No es considerado como uno de los modelos más poderosos y se puede superar fácilmente con otros.\n",
    "        - Tiene una alta dependencia de una presentación adecuada de sus datos.\n",
    "        - Solo puede predecir un resultado categórico.\n",
    "        - Es un algoritmo conocido por su vulnerabilidad al sobreajuste.\n",
    "        \n",
    "### Decisión Tree\n",
    "\n",
    "**Ventajas:**\n",
    "        - Requieren menos esfuerzo para la preparación de datos durante el preprocesamiento que otros algoritmos.\n",
    "        - No requiere normalización de datos.\n",
    "        - Ayuda a determinar los peores, mejores y esperados valores para diferentes escenarios.\n",
    "        - No requiere escalar los datos.\n",
    "        - Es muy intuitivo y fácil de explicar a los equipos técnicos.\n",
    "        - Pueden trabajar tanto en datos numéricos como de carácter temporal. Además, pueden manejar problemas con múltiples resultados.\n",
    "**Desventajas:**\n",
    "        - Un pequeño cambio en los datos puede causar un gran cambio en la estructura del árbol de decisiones que causa inestabilidad.\n",
    "        - A veces el cálculo puede ser mucho más complejo en comparación con otros algoritmos.\n",
    "        - A menudo necesita más tiempo en el proceso de entrenamiento.\n",
    "        - Es inadecuado para aplicar regresión y predecir valores continuos.\n",
    "        - Fragmentación de datos: cada división en un árbol conduce a un conjunto de datos reducido en consideración. Y, por lo tanto, el modelo creado en la división potencialmente introducirá sesgo.\n",
    "        \n",
    "### Random Forest\n",
    "\n",
    "**Ventajas**\n",
    "        - El rendimiento predictivo puede competir con los mejores algoritmos de aprendizaje supervisado.\n",
    "        - Ofrecen estimaciones eficientes del error de prueba sin incurrir en el costo del entrenamiento repetido del modelo asociado con la validación cruzada.\n",
    "        - Random Forest se basa en el algoritmo de ensacado y utiliza la técnica Ensemble Learning.\n",
    "        - Funciona bien con  variables categóricas y continuas.\n",
    "        - Puede manejar automáticamente los valores faltantes.\n",
    "        - No se requiere escalamiento de características.\n",
    "        - Maneja los parámetros no lineales de manera eficiente.\n",
    "        - Es muy estable, además suele ser robusto para los valores atípicos y puede manejarlos automáticamente.\n",
    "\n",
    "**Desventajas**\n",
    "        - Complejidad, crea muchos árboles (a diferencia de un solo árbol en caso de árbol de decisión) y combina sus resultados. Por defecto, crea 100 árboles en la biblioteca de Python sklearn. Para hacerlo, este algoritmo requiere mucha más potencia y recursos computacionales.\n",
    "        - Requiere mucho más tiempo para entrenar en comparación con los árboles de decisión.\n",
    "        - En caso de regresión, no predice más allá del rango en los datos de entrenamiento, y que pueden ajustarse demasiado a los conjuntos de datos que son particularmente \"ruidosos\".\n",
    "        - El sobreajuste puede ocurrir fácilmente.\n",
    "        - Falla cuando hay resultados raros o predictores raros, ya que el algoritmo se basa en el muestreo de arranque. Esto lo hace no ideal si está trabajando con rasgos de personalidad raros, comportamientos de clientes altamente segmentados o variantes raras en la investigación genómica.\n",
    "        - Un modelo de conjunto es inherentemente menos interpretable que un árbol de decisión individual."
   ]
  },
  {
   "cell_type": "markdown",
   "metadata": {},
   "source": [
    "## Identificando la relevancia de las características al usar cada modelo\n",
    "\n",
    "### LR\n",
    "\n",
    "- Para nosotros poder analizar y posteriormente concluir que característica influyó más en el análisis predictivo hecho por el modelo de Regresión Logistica, debemos fijarnos en los \"pesos\" obtenidos, los cuales son:\n",
    "\n",
    "[ 0.6961308(u)   -0.84398308(g)   8.03319039(r)  -2.22902365(i)  -5.59803211(z)   -2.08061145(redshift) ] GALAXY\n",
    "\n",
    "[ -4.99100367(u)   7.53508795(g)   0.99646727(r)  -1.54263257(i)  -2.1088935(z)   10.62270269(redshift) ] QSO\n",
    "\n",
    "[ 3.40132278(u)  -7.14738624(g)  -3.71904807(r)   0.56125115(i)   6.91198307(z)   -20.06668054(redshift ] STAR\n",
    "\n",
    "Luego de contar con estos datos, lo que debemos hacer para poder identificar la característica más \"importante\" a la hora de predecir es aplicar valor absoluto a cada valor y tomar el mayor de estos, entonces, para la clase **GALAXY**, la característica más relevante es **\"r\"** con un valor absoluto de 8.03 aprox, para la clase **QSO** es la característica **\"redshift\"** con 10.62, y por último para la clase **STAR** tenemos que también es la característica **\"redshift\"** con un valor de 20.07."
   ]
  },
  {
   "cell_type": "markdown",
   "metadata": {},
   "source": [
    "### Decision Tree"
   ]
  },
  {
   "cell_type": "code",
   "execution_count": 63,
   "metadata": {},
   "outputs": [
    {
     "name": "stdout",
     "output_type": "stream",
     "text": [
      "\n",
      "Decision Tree\n",
      "\n",
      "    feature  importance\n",
      "5  redshift       0.951\n",
      "0         u       0.019\n",
      "1         g       0.014\n",
      "4         z       0.008\n",
      "2         r       0.004\n",
      "3         i       0.004\n"
     ]
    }
   ],
   "source": [
    "importances = pd.DataFrame({'feature':X_train.columns,'importance':np.round(clf.feature_importances_,3)})\n",
    "importances = importances.sort_values('importance',ascending=False)\n",
    "print(\"\\nDecision Tree\\n\")\n",
    "print(importances)"
   ]
  },
  {
   "cell_type": "markdown",
   "metadata": {},
   "source": [
    "- Dados los datos obtenidos con **feature_importances_**el cual nos dice cual es la característica más importante o relevante a la hora de construir el árbol, tenemos que **\"redshift\"**(0.951) es el atributo que más influye a la hora de generar el árbol, es decir, es el más relevante a la hora de predecir a que clase pertenece cada dato."
   ]
  },
  {
   "cell_type": "markdown",
   "metadata": {},
   "source": [
    "### Random Forest"
   ]
  },
  {
   "cell_type": "code",
   "execution_count": 67,
   "metadata": {},
   "outputs": [
    {
     "name": "stdout",
     "output_type": "stream",
     "text": [
      "\n",
      " Random Forest \n",
      "\n",
      "    feature  importance\n",
      "5  redshift       0.601\n",
      "3         i       0.154\n",
      "2         r       0.106\n",
      "4         z       0.051\n",
      "0         u       0.044\n",
      "1         g       0.044\n"
     ]
    }
   ],
   "source": [
    "importances = pd.DataFrame({'feature':X_train.columns,'importance':np.round(clf_rmc.feature_importances_,3)})\n",
    "importances = importances.sort_values('importance',ascending=False)\n",
    "print(\"\\n Random Forest \\n\")\n",
    "print(importances)"
   ]
  },
  {
   "cell_type": "markdown",
   "metadata": {},
   "source": [
    "- Siguiendo la misma idea del modelo anterior, analizando la importancia de las características en la creación del modelo Random Forest, obtuvimos que la característica más relevante es también **\"redshift\"**(0.601)."
   ]
  }
 ],
 "metadata": {
  "kernelspec": {
   "display_name": "Python 3",
   "language": "python",
   "name": "python3"
  },
  "language_info": {
   "codemirror_mode": {
    "name": "ipython",
    "version": 3
   },
   "file_extension": ".py",
   "mimetype": "text/x-python",
   "name": "python",
   "nbconvert_exporter": "python",
   "pygments_lexer": "ipython3",
   "version": "3.7.3"
  }
 },
 "nbformat": 4,
 "nbformat_minor": 2
}
